{
 "cells": [
  {
   "cell_type": "code",
   "execution_count": 1,
   "metadata": {
    "collapsed": false
   },
   "outputs": [
    {
     "name": "stdout",
     "output_type": "stream",
     "text": [
      "12.5\n",
      "3.125\n",
      "0.78125\n"
     ]
    }
   ],
   "source": [
    "error = 50.0\n",
    "while error > 1:\n",
    "    error = error/4\n",
    "    print(error)"
   ]
  },
  {
   "cell_type": "code",
   "execution_count": 2,
   "metadata": {
    "collapsed": true
   },
   "outputs": [],
   "source": [
    "offset  = 8"
   ]
  },
  {
   "cell_type": "code",
   "execution_count": 3,
   "metadata": {
    "collapsed": false
   },
   "outputs": [
    {
     "name": "stdout",
     "output_type": "stream",
     "text": [
      "correcting\n",
      "7\n",
      "correcting\n",
      "6\n",
      "correcting\n",
      "5\n",
      "correcting\n",
      "4\n",
      "correcting\n",
      "3\n",
      "correcting\n",
      "2\n",
      "correcting\n",
      "1\n",
      "correcting\n",
      "0\n"
     ]
    }
   ],
   "source": [
    "while offset!=0:\n",
    "    print(\"correcting\")\n",
    "    offset  =offset  -1\n",
    "    print(offset)"
   ]
  },
  {
   "cell_type": "code",
   "execution_count": 4,
   "metadata": {
    "collapsed": true
   },
   "outputs": [],
   "source": [
    "fam = [1.73,1.68,1.71,1.89]"
   ]
  },
  {
   "cell_type": "code",
   "execution_count": 5,
   "metadata": {
    "collapsed": false
   },
   "outputs": [
    {
     "name": "stdout",
     "output_type": "stream",
     "text": [
      "1.73\n",
      "1.68\n",
      "1.71\n",
      "1.89\n"
     ]
    }
   ],
   "source": [
    "for height in fam:\n",
    "    print(height)"
   ]
  },
  {
   "cell_type": "code",
   "execution_count": 6,
   "metadata": {
    "collapsed": true
   },
   "outputs": [],
   "source": [
    "areas = [11.25,18.0,20.0,10.75,9.50]"
   ]
  },
  {
   "cell_type": "code",
   "execution_count": 7,
   "metadata": {
    "collapsed": false
   },
   "outputs": [
    {
     "name": "stdout",
     "output_type": "stream",
     "text": [
      "11.25\n",
      "18.0\n",
      "20.0\n",
      "10.75\n",
      "9.5\n"
     ]
    }
   ],
   "source": [
    "for area in areas:\n",
    "    print(area)"
   ]
  },
  {
   "cell_type": "code",
   "execution_count": 12,
   "metadata": {
    "collapsed": false
   },
   "outputs": [
    {
     "name": "stdout",
     "output_type": "stream",
     "text": [
      "room 1:11.25\n",
      "room 2:18.0\n",
      "room 3:20.0\n",
      "room 4:10.75\n",
      "room 5:9.5\n"
     ]
    }
   ],
   "source": [
    "for index,area in enumerate(areas):\n",
    "    print(\"room \"+str(index+1) +\":\"+ str(area))"
   ]
  },
  {
   "cell_type": "code",
   "execution_count": 13,
   "metadata": {
    "collapsed": true
   },
   "outputs": [],
   "source": [
    "house = [[\"hallway\", 11.25], \n",
    "         [\"kitchen\", 18.0], \n",
    "         [\"living room\", 20.0], \n",
    "         [\"bedroom\", 10.75], \n",
    "         [\"bathroom\", 9.50]]"
   ]
  },
  {
   "cell_type": "code",
   "execution_count": 16,
   "metadata": {
    "collapsed": false
   },
   "outputs": [
    {
     "name": "stdout",
     "output_type": "stream",
     "text": [
      "the hallway is 11.25 sqm\n",
      "the kitchen is 18.0 sqm\n",
      "the living room is 20.0 sqm\n",
      "the bedroom is 10.75 sqm\n",
      "the bathroom is 9.5 sqm\n"
     ]
    }
   ],
   "source": [
    "for data in house:\n",
    "    print(\"the \"+data[0]+\" is \"+str(data[1]) + \" sqm\")"
   ]
  },
  {
   "cell_type": "code",
   "execution_count": 17,
   "metadata": {
    "collapsed": true
   },
   "outputs": [],
   "source": [
    "europe = {'spain':'madrid', 'france':'paris', 'germany':'bonn', \n",
    "          'norway':'oslo', 'italy':'rome', 'poland':'warsaw', 'australia':'vienna' }"
   ]
  },
  {
   "cell_type": "code",
   "execution_count": 19,
   "metadata": {
    "collapsed": false
   },
   "outputs": [
    {
     "name": "stdout",
     "output_type": "stream",
     "text": [
      "the capital of spain is madrid\n",
      "the capital of france is paris\n",
      "the capital of germany is bonn\n",
      "the capital of norway is oslo\n",
      "the capital of italy is rome\n",
      "the capital of poland is warsaw\n",
      "the capital of australia is vienna\n"
     ]
    }
   ],
   "source": [
    "for k,v in europe.items():\n",
    "    print(\"the capital of \"+ k +\" is \"+v)"
   ]
  },
  {
   "cell_type": "code",
   "execution_count": 20,
   "metadata": {
    "collapsed": true
   },
   "outputs": [],
   "source": [
    "import numpy as np"
   ]
  },
  {
   "cell_type": "code",
   "execution_count": 21,
   "metadata": {
    "collapsed": true
   },
   "outputs": [],
   "source": [
    "hello = [\"supriya\",\"hello\",\"mk\",2,9,1993]"
   ]
  },
  {
   "cell_type": "code",
   "execution_count": 22,
   "metadata": {
    "collapsed": true
   },
   "outputs": [],
   "source": [
    "hello = np.array(hello)"
   ]
  },
  {
   "cell_type": "code",
   "execution_count": 25,
   "metadata": {
    "collapsed": false
   },
   "outputs": [
    {
     "name": "stdout",
     "output_type": "stream",
     "text": [
      "the word is supriya\n",
      "the word is hello\n",
      "the word is mk\n",
      "the word is 2\n",
      "the word is 9\n",
      "the word is 1993\n"
     ]
    }
   ],
   "source": [
    "for x in np.nditer(hello):\n",
    "    print(\"the word is \"+str(x))"
   ]
  },
  {
   "cell_type": "code",
   "execution_count": 63,
   "metadata": {
    "collapsed": true
   },
   "outputs": [],
   "source": [
    "country = [\"brazil\",\"australia\",\"moscow\",\"india\"]"
   ]
  },
  {
   "cell_type": "code",
   "execution_count": 64,
   "metadata": {
    "collapsed": true
   },
   "outputs": [],
   "source": [
    "capital = [\"brasilia\",\"canberra\",\"Russia\",\"delhi\"]"
   ]
  },
  {
   "cell_type": "code",
   "execution_count": 65,
   "metadata": {
    "collapsed": true
   },
   "outputs": [],
   "source": [
    "index_val  = [\"BR\",\"AU\",\"RU\",\"IN\"]"
   ]
  },
  {
   "cell_type": "code",
   "execution_count": 70,
   "metadata": {
    "collapsed": true
   },
   "outputs": [],
   "source": [
    "brics = {\"country\":country,\"capital\":capital} "
   ]
  },
  {
   "cell_type": "code",
   "execution_count": 71,
   "metadata": {
    "collapsed": false
   },
   "outputs": [],
   "source": [
    "import pandas as pd"
   ]
  },
  {
   "cell_type": "code",
   "execution_count": null,
   "metadata": {
    "collapsed": false
   },
   "outputs": [],
   "source": []
  },
  {
   "cell_type": "code",
   "execution_count": 72,
   "metadata": {
    "collapsed": false
   },
   "outputs": [],
   "source": [
    "brics = pd.DataFrame(brics,index = index_val)"
   ]
  },
  {
   "cell_type": "code",
   "execution_count": 73,
   "metadata": {
    "collapsed": false
   },
   "outputs": [
    {
     "data": {
      "text/html": [
       "<div>\n",
       "<table border=\"1\" class=\"dataframe\">\n",
       "  <thead>\n",
       "    <tr style=\"text-align: right;\">\n",
       "      <th></th>\n",
       "      <th>capital</th>\n",
       "      <th>country</th>\n",
       "    </tr>\n",
       "  </thead>\n",
       "  <tbody>\n",
       "    <tr>\n",
       "      <th>BR</th>\n",
       "      <td>brasilia</td>\n",
       "      <td>brazil</td>\n",
       "    </tr>\n",
       "    <tr>\n",
       "      <th>AU</th>\n",
       "      <td>canberra</td>\n",
       "      <td>australia</td>\n",
       "    </tr>\n",
       "    <tr>\n",
       "      <th>RU</th>\n",
       "      <td>Russia</td>\n",
       "      <td>moscow</td>\n",
       "    </tr>\n",
       "    <tr>\n",
       "      <th>IN</th>\n",
       "      <td>delhi</td>\n",
       "      <td>india</td>\n",
       "    </tr>\n",
       "  </tbody>\n",
       "</table>\n",
       "</div>"
      ],
      "text/plain": [
       "     capital    country\n",
       "BR  brasilia     brazil\n",
       "AU  canberra  australia\n",
       "RU    Russia     moscow\n",
       "IN     delhi      india"
      ]
     },
     "execution_count": 73,
     "metadata": {},
     "output_type": "execute_result"
    }
   ],
   "source": [
    "brics"
   ]
  },
  {
   "cell_type": "code",
   "execution_count": 75,
   "metadata": {
    "collapsed": false
   },
   "outputs": [
    {
     "name": "stdout",
     "output_type": "stream",
     "text": [
      "BR\n",
      "capital    brasilia\n",
      "country      brazil\n",
      "Name: BR, dtype: object\n",
      "AU\n",
      "capital     canberra\n",
      "country    australia\n",
      "Name: AU, dtype: object\n",
      "RU\n",
      "capital    Russia\n",
      "country    moscow\n",
      "Name: RU, dtype: object\n",
      "IN\n",
      "capital    delhi\n",
      "country    india\n",
      "Name: IN, dtype: object\n"
     ]
    }
   ],
   "source": [
    "for lab,row in brics.iterrows():\n",
    "    print(lab)\n",
    "    print(row)"
   ]
  },
  {
   "cell_type": "code",
   "execution_count": 91,
   "metadata": {
    "collapsed": true
   },
   "outputs": [],
   "source": [
    "names = ['united states','Australia','Japan','India',\"Russia\",'Morocco','Egypt']"
   ]
  },
  {
   "cell_type": "code",
   "execution_count": 92,
   "metadata": {
    "collapsed": true
   },
   "outputs": [],
   "source": [
    "dr = [True,False,False,False,True,True,True]"
   ]
  },
  {
   "cell_type": "code",
   "execution_count": 93,
   "metadata": {
    "collapsed": true
   },
   "outputs": [],
   "source": [
    "cpc = [809,731,588,18,200,70,45]"
   ]
  },
  {
   "cell_type": "code",
   "execution_count": 94,
   "metadata": {
    "collapsed": true
   },
   "outputs": [],
   "source": [
    "my_dict = {'country':names,'drives_right':dr,'cars_per_cpc':cpc}"
   ]
  },
  {
   "cell_type": "code",
   "execution_count": 95,
   "metadata": {
    "collapsed": true
   },
   "outputs": [],
   "source": [
    "cars = pd.DataFrame(my_dict)"
   ]
  },
  {
   "cell_type": "code",
   "execution_count": 96,
   "metadata": {
    "collapsed": false
   },
   "outputs": [
    {
     "data": {
      "text/html": [
       "<div>\n",
       "<table border=\"1\" class=\"dataframe\">\n",
       "  <thead>\n",
       "    <tr style=\"text-align: right;\">\n",
       "      <th></th>\n",
       "      <th>cars_per_cpc</th>\n",
       "      <th>country</th>\n",
       "      <th>drives_right</th>\n",
       "    </tr>\n",
       "  </thead>\n",
       "  <tbody>\n",
       "    <tr>\n",
       "      <th>0</th>\n",
       "      <td>809</td>\n",
       "      <td>united states</td>\n",
       "      <td>True</td>\n",
       "    </tr>\n",
       "    <tr>\n",
       "      <th>1</th>\n",
       "      <td>731</td>\n",
       "      <td>Australia</td>\n",
       "      <td>False</td>\n",
       "    </tr>\n",
       "    <tr>\n",
       "      <th>2</th>\n",
       "      <td>588</td>\n",
       "      <td>Japan</td>\n",
       "      <td>False</td>\n",
       "    </tr>\n",
       "    <tr>\n",
       "      <th>3</th>\n",
       "      <td>18</td>\n",
       "      <td>India</td>\n",
       "      <td>False</td>\n",
       "    </tr>\n",
       "    <tr>\n",
       "      <th>4</th>\n",
       "      <td>200</td>\n",
       "      <td>Russia</td>\n",
       "      <td>True</td>\n",
       "    </tr>\n",
       "    <tr>\n",
       "      <th>5</th>\n",
       "      <td>70</td>\n",
       "      <td>Morocco</td>\n",
       "      <td>True</td>\n",
       "    </tr>\n",
       "    <tr>\n",
       "      <th>6</th>\n",
       "      <td>45</td>\n",
       "      <td>Egypt</td>\n",
       "      <td>True</td>\n",
       "    </tr>\n",
       "  </tbody>\n",
       "</table>\n",
       "</div>"
      ],
      "text/plain": [
       "   cars_per_cpc        country drives_right\n",
       "0           809  united states         True\n",
       "1           731      Australia        False\n",
       "2           588          Japan        False\n",
       "3            18          India        False\n",
       "4           200         Russia         True\n",
       "5            70        Morocco         True\n",
       "6            45          Egypt         True"
      ]
     },
     "execution_count": 96,
     "metadata": {},
     "output_type": "execute_result"
    }
   ],
   "source": [
    "cars"
   ]
  },
  {
   "cell_type": "code",
   "execution_count": null,
   "metadata": {
    "collapsed": false
   },
   "outputs": [],
   "source": []
  },
  {
   "cell_type": "code",
   "execution_count": 109,
   "metadata": {
    "collapsed": true
   },
   "outputs": [],
   "source": [
    "cars[\"COUNTRY\"] = cars[\"country\"].apply(str.upper)"
   ]
  },
  {
   "cell_type": "code",
   "execution_count": 110,
   "metadata": {
    "collapsed": false
   },
   "outputs": [
    {
     "data": {
      "text/html": [
       "<div>\n",
       "<table border=\"1\" class=\"dataframe\">\n",
       "  <thead>\n",
       "    <tr style=\"text-align: right;\">\n",
       "      <th></th>\n",
       "      <th>cars_per_cpc</th>\n",
       "      <th>country</th>\n",
       "      <th>drives_right</th>\n",
       "      <th>COUNTRY</th>\n",
       "    </tr>\n",
       "  </thead>\n",
       "  <tbody>\n",
       "    <tr>\n",
       "      <th>0</th>\n",
       "      <td>809</td>\n",
       "      <td>united states</td>\n",
       "      <td>True</td>\n",
       "      <td>UNITED STATES</td>\n",
       "    </tr>\n",
       "    <tr>\n",
       "      <th>1</th>\n",
       "      <td>731</td>\n",
       "      <td>Australia</td>\n",
       "      <td>False</td>\n",
       "      <td>AUSTRALIA</td>\n",
       "    </tr>\n",
       "    <tr>\n",
       "      <th>2</th>\n",
       "      <td>588</td>\n",
       "      <td>Japan</td>\n",
       "      <td>False</td>\n",
       "      <td>JAPAN</td>\n",
       "    </tr>\n",
       "    <tr>\n",
       "      <th>3</th>\n",
       "      <td>18</td>\n",
       "      <td>India</td>\n",
       "      <td>False</td>\n",
       "      <td>INDIA</td>\n",
       "    </tr>\n",
       "    <tr>\n",
       "      <th>4</th>\n",
       "      <td>200</td>\n",
       "      <td>Russia</td>\n",
       "      <td>True</td>\n",
       "      <td>RUSSIA</td>\n",
       "    </tr>\n",
       "    <tr>\n",
       "      <th>5</th>\n",
       "      <td>70</td>\n",
       "      <td>Morocco</td>\n",
       "      <td>True</td>\n",
       "      <td>MOROCCO</td>\n",
       "    </tr>\n",
       "    <tr>\n",
       "      <th>6</th>\n",
       "      <td>45</td>\n",
       "      <td>Egypt</td>\n",
       "      <td>True</td>\n",
       "      <td>EGYPT</td>\n",
       "    </tr>\n",
       "  </tbody>\n",
       "</table>\n",
       "</div>"
      ],
      "text/plain": [
       "   cars_per_cpc        country drives_right        COUNTRY\n",
       "0           809  united states         True  UNITED STATES\n",
       "1           731      Australia        False      AUSTRALIA\n",
       "2           588          Japan        False          JAPAN\n",
       "3            18          India        False          INDIA\n",
       "4           200         Russia         True         RUSSIA\n",
       "5            70        Morocco         True        MOROCCO\n",
       "6            45          Egypt         True          EGYPT"
      ]
     },
     "execution_count": 110,
     "metadata": {},
     "output_type": "execute_result"
    }
   ],
   "source": [
    "cars"
   ]
  },
  {
   "cell_type": "code",
   "execution_count": 111,
   "metadata": {
    "collapsed": false
   },
   "outputs": [
    {
     "data": {
      "text/plain": [
       "6"
      ]
     },
     "execution_count": 111,
     "metadata": {},
     "output_type": "execute_result"
    }
   ],
   "source": [
    "lab"
   ]
  },
  {
   "cell_type": "code",
   "execution_count": 112,
   "metadata": {
    "collapsed": false
   },
   "outputs": [
    {
     "data": {
      "text/plain": [
       "cars_per_cpc                                                   45\n",
       "country                                                     Egypt\n",
       "drives_right                                                 True\n",
       "COUNTRY         <built-in method upper of str object at 0x1159...\n",
       "Name: 6, dtype: object"
      ]
     },
     "execution_count": 112,
     "metadata": {},
     "output_type": "execute_result"
    }
   ],
   "source": [
    "row"
   ]
  },
  {
   "cell_type": "code",
   "execution_count": 113,
   "metadata": {
    "collapsed": true
   },
   "outputs": [],
   "source": [
    "import numpy as np\n"
   ]
  },
  {
   "cell_type": "code",
   "execution_count": 120,
   "metadata": {
    "collapsed": true
   },
   "outputs": [],
   "source": [
    "np.random.seed(12)"
   ]
  },
  {
   "cell_type": "code",
   "execution_count": 121,
   "metadata": {
    "collapsed": false
   },
   "outputs": [
    {
     "data": {
      "text/plain": [
       "0.15416284237967237"
      ]
     },
     "execution_count": 121,
     "metadata": {},
     "output_type": "execute_result"
    }
   ],
   "source": [
    "np.random.rand()"
   ]
  },
  {
   "cell_type": "code",
   "execution_count": 122,
   "metadata": {
    "collapsed": false
   },
   "outputs": [
    {
     "data": {
      "text/plain": [
       "0.7400496965154048"
      ]
     },
     "execution_count": 122,
     "metadata": {},
     "output_type": "execute_result"
    }
   ],
   "source": [
    "np.random.rand()"
   ]
  },
  {
   "cell_type": "code",
   "execution_count": 123,
   "metadata": {
    "collapsed": false
   },
   "outputs": [
    {
     "data": {
      "text/plain": [
       "0.26331501518513467"
      ]
     },
     "execution_count": 123,
     "metadata": {},
     "output_type": "execute_result"
    }
   ],
   "source": [
    "np.random.rand()"
   ]
  },
  {
   "cell_type": "code",
   "execution_count": 124,
   "metadata": {
    "collapsed": false
   },
   "outputs": [
    {
     "data": {
      "text/plain": [
       "0.5337393933802977"
      ]
     },
     "execution_count": 124,
     "metadata": {},
     "output_type": "execute_result"
    }
   ],
   "source": [
    "np.random.rand()"
   ]
  },
  {
   "cell_type": "code",
   "execution_count": 119,
   "metadata": {
    "collapsed": false
   },
   "outputs": [
    {
     "data": {
      "text/plain": [
       "0.7194689697855631"
      ]
     },
     "execution_count": 119,
     "metadata": {},
     "output_type": "execute_result"
    }
   ],
   "source": [
    "np.random.rand()"
   ]
  },
  {
   "cell_type": "code",
   "execution_count": 126,
   "metadata": {
    "collapsed": false
   },
   "outputs": [
    {
     "data": {
      "text/plain": [
       "1"
      ]
     },
     "execution_count": 126,
     "metadata": {},
     "output_type": "execute_result"
    }
   ],
   "source": [
    "np.random.randint(1,7)"
   ]
  },
  {
   "cell_type": "code",
   "execution_count": 127,
   "metadata": {
    "collapsed": false
   },
   "outputs": [
    {
     "data": {
      "text/plain": [
       "2"
      ]
     },
     "execution_count": 127,
     "metadata": {},
     "output_type": "execute_result"
    }
   ],
   "source": [
    "np.random.randint(1,7)"
   ]
  },
  {
   "cell_type": "code",
   "execution_count": 135,
   "metadata": {
    "collapsed": true
   },
   "outputs": [],
   "source": [
    "step = 50\n",
    "dice = np.random.randint(1,7)\n",
    "if dice <=2 :\n",
    "    step = step-1\n",
    "elif dice <= 5:\n",
    "    step = step+1\n",
    "else:\n",
    "    step = step + np.random.randint(1,7)"
   ]
  },
  {
   "cell_type": "code",
   "execution_count": 136,
   "metadata": {
    "collapsed": false
   },
   "outputs": [
    {
     "name": "stdout",
     "output_type": "stream",
     "text": [
      "3\n"
     ]
    }
   ],
   "source": [
    "print(dice)"
   ]
  },
  {
   "cell_type": "code",
   "execution_count": 137,
   "metadata": {
    "collapsed": false
   },
   "outputs": [
    {
     "data": {
      "text/plain": [
       "51"
      ]
     },
     "execution_count": 137,
     "metadata": {},
     "output_type": "execute_result"
    }
   ],
   "source": [
    "step"
   ]
  },
  {
   "cell_type": "code",
   "execution_count": 174,
   "metadata": {
    "collapsed": false
   },
   "outputs": [],
   "source": [
    "random_walk = [0]\n",
    "for x in range(100):\n",
    "    step = random_walk[-1]\n",
    "    dice = np.random.randint(1,7)\n",
    "    if dice<= 2:\n",
    "        step = step - 1\n",
    "        step = max(0,step)\n",
    "    elif dice <= 5:\n",
    "        step = step + 1\n",
    "    else:\n",
    "        step = step + np.random.randint(1,7)\n",
    "    \n",
    "    \n",
    "        random_walk.append(step)\n",
    "    \n",
    "    "
   ]
  },
  {
   "cell_type": "code",
   "execution_count": 175,
   "metadata": {
    "collapsed": false
   },
   "outputs": [
    {
     "data": {
      "text/plain": [
       "[0, 2, 4, 8, 14, 20, 25, 31, 36, 37, 38, 39, 44, 46, 50]"
      ]
     },
     "execution_count": 175,
     "metadata": {},
     "output_type": "execute_result"
    }
   ],
   "source": [
    "random_walk"
   ]
  },
  {
   "cell_type": "code",
   "execution_count": 176,
   "metadata": {
    "collapsed": true
   },
   "outputs": [],
   "source": [
    "import matplotlib.pyplot as plt"
   ]
  },
  {
   "cell_type": "code",
   "execution_count": 177,
   "metadata": {
    "collapsed": false
   },
   "outputs": [
    {
     "data": {
      "text/plain": [
       "[<matplotlib.lines.Line2D at 0x11cd86f60>]"
      ]
     },
     "execution_count": 177,
     "metadata": {},
     "output_type": "execute_result"
    }
   ],
   "source": [
    "plt.plot(random_walk)"
   ]
  },
  {
   "cell_type": "code",
   "execution_count": 178,
   "metadata": {
    "collapsed": false
   },
   "outputs": [
    {
     "data": {
      "image/png": "[encoded data removed]",
      "text/plain": [
       "<matplotlib.figure.Figure at 0x11c79e550>"
      ]
     },
     "metadata": {},
     "output_type": "display_data"
    }
   ],
   "source": [
    "plt.show()"
   ]
  },
  {
   "cell_type": "code",
   "execution_count": 181,
   "metadata": {
    "collapsed": false
   },
   "outputs": [],
   "source": [
    "all_walks = []\n",
    "for i in range(10):\n",
    "    random_walk = [0]\n",
    "    for x in range(100):\n",
    "        step = random_walk[-1]\n",
    "        dice = np.random.randint(1,7)\n",
    "        if dice<= 2:\n",
    "            step = step - 1\n",
    "            step = max(0,step)\n",
    "        elif dice <= 5:\n",
    "            step = step + 1\n",
    "        else:\n",
    "            step = step + np.random.randint(1,7)\n",
    "        if np.random.rand() <= 0.001:\n",
    "            step = 0 \n",
    "        random_walk.append(step)\n",
    "    all_walks.append(random_walk)\n",
    "        \n",
    "            \n",
    "            \n",
    "            \n",
    "        \n",
    "        \n",
    "    \n",
    "    \n",
    "        \n",
    "        \n",
    "    "
   ]
  },
  {
   "cell_type": "code",
   "execution_count": 182,
   "metadata": {
    "collapsed": false
   },
   "outputs": [
    {
     "data": {
      "text/plain": [
       "[[0,\n",
       "  1,\n",
       "  2,\n",
       "  3,\n",
       "  4,\n",
       "  3,\n",
       "  2,\n",
       "  6,\n",
       "  7,\n",
       "  8,\n",
       "  9,\n",
       "  10,\n",
       "  9,\n",
       "  8,\n",
       "  9,\n",
       "  8,\n",
       "  9,\n",
       "  10,\n",
       "  11,\n",
       "  12,\n",
       "  16,\n",
       "  21,\n",
       "  22,\n",
       "  23,\n",
       "  24,\n",
       "  25,\n",
       "  31,\n",
       "  30,\n",
       "  31,\n",
       "  32,\n",
       "  31,\n",
       "  35,\n",
       "  36,\n",
       "  37,\n",
       "  38,\n",
       "  39,\n",
       "  38,\n",
       "  39,\n",
       "  40,\n",
       "  41,\n",
       "  42,\n",
       "  43,\n",
       "  42,\n",
       "  46,\n",
       "  45,\n",
       "  44,\n",
       "  43,\n",
       "  42,\n",
       "  43,\n",
       "  49,\n",
       "  50,\n",
       "  55,\n",
       "  56,\n",
       "  57,\n",
       "  58,\n",
       "  59,\n",
       "  60,\n",
       "  59,\n",
       "  60,\n",
       "  61,\n",
       "  60,\n",
       "  59,\n",
       "  60,\n",
       "  63,\n",
       "  62,\n",
       "  63,\n",
       "  64,\n",
       "  65,\n",
       "  64,\n",
       "  65,\n",
       "  66,\n",
       "  65,\n",
       "  66,\n",
       "  67,\n",
       "  66,\n",
       "  67,\n",
       "  68,\n",
       "  67,\n",
       "  68,\n",
       "  69,\n",
       "  70,\n",
       "  71,\n",
       "  70,\n",
       "  69,\n",
       "  70,\n",
       "  69,\n",
       "  72,\n",
       "  71,\n",
       "  70,\n",
       "  71,\n",
       "  70,\n",
       "  69,\n",
       "  68,\n",
       "  70,\n",
       "  71,\n",
       "  70,\n",
       "  71,\n",
       "  70,\n",
       "  71,\n",
       "  76,\n",
       "  77],\n",
       " [0,\n",
       "  0,\n",
       "  1,\n",
       "  0,\n",
       "  1,\n",
       "  0,\n",
       "  0,\n",
       "  0,\n",
       "  1,\n",
       "  0,\n",
       "  1,\n",
       "  0,\n",
       "  0,\n",
       "  1,\n",
       "  0,\n",
       "  1,\n",
       "  0,\n",
       "  1,\n",
       "  2,\n",
       "  3,\n",
       "  2,\n",
       "  1,\n",
       "  0,\n",
       "  0,\n",
       "  1,\n",
       "  0,\n",
       "  4,\n",
       "  5,\n",
       "  6,\n",
       "  5,\n",
       "  4,\n",
       "  5,\n",
       "  4,\n",
       "  3,\n",
       "  4,\n",
       "  5,\n",
       "  6,\n",
       "  7,\n",
       "  8,\n",
       "  11,\n",
       "  10,\n",
       "  12,\n",
       "  13,\n",
       "  12,\n",
       "  13,\n",
       "  14,\n",
       "  19,\n",
       "  20,\n",
       "  19,\n",
       "  24,\n",
       "  23,\n",
       "  24,\n",
       "  27,\n",
       "  30,\n",
       "  33,\n",
       "  34,\n",
       "  33,\n",
       "  32,\n",
       "  33,\n",
       "  34,\n",
       "  35,\n",
       "  34,\n",
       "  37,\n",
       "  38,\n",
       "  42,\n",
       "  41,\n",
       "  40,\n",
       "  39,\n",
       "  38,\n",
       "  39,\n",
       "  40,\n",
       "  41,\n",
       "  40,\n",
       "  45,\n",
       "  46,\n",
       "  47,\n",
       "  48,\n",
       "  49,\n",
       "  50,\n",
       "  49,\n",
       "  53,\n",
       "  54,\n",
       "  55,\n",
       "  59,\n",
       "  60,\n",
       "  59,\n",
       "  63,\n",
       "  62,\n",
       "  63,\n",
       "  67,\n",
       "  68,\n",
       "  69,\n",
       "  70,\n",
       "  74,\n",
       "  75,\n",
       "  74,\n",
       "  75,\n",
       "  76,\n",
       "  75,\n",
       "  76,\n",
       "  75],\n",
       " [0,\n",
       "  1,\n",
       "  0,\n",
       "  1,\n",
       "  0,\n",
       "  0,\n",
       "  4,\n",
       "  5,\n",
       "  6,\n",
       "  5,\n",
       "  6,\n",
       "  7,\n",
       "  6,\n",
       "  7,\n",
       "  8,\n",
       "  9,\n",
       "  8,\n",
       "  7,\n",
       "  8,\n",
       "  12,\n",
       "  13,\n",
       "  14,\n",
       "  15,\n",
       "  14,\n",
       "  13,\n",
       "  14,\n",
       "  15,\n",
       "  16,\n",
       "  17,\n",
       "  19,\n",
       "  20,\n",
       "  24,\n",
       "  25,\n",
       "  24,\n",
       "  25,\n",
       "  26,\n",
       "  27,\n",
       "  31,\n",
       "  32,\n",
       "  33,\n",
       "  32,\n",
       "  33,\n",
       "  34,\n",
       "  33,\n",
       "  34,\n",
       "  35,\n",
       "  34,\n",
       "  33,\n",
       "  34,\n",
       "  35,\n",
       "  36,\n",
       "  37,\n",
       "  38,\n",
       "  39,\n",
       "  38,\n",
       "  39,\n",
       "  44,\n",
       "  43,\n",
       "  44,\n",
       "  45,\n",
       "  44,\n",
       "  45,\n",
       "  49,\n",
       "  48,\n",
       "  47,\n",
       "  48,\n",
       "  49,\n",
       "  48,\n",
       "  49,\n",
       "  50,\n",
       "  51,\n",
       "  50,\n",
       "  49,\n",
       "  48,\n",
       "  49,\n",
       "  48,\n",
       "  49,\n",
       "  48,\n",
       "  49,\n",
       "  55,\n",
       "  56,\n",
       "  57,\n",
       "  58,\n",
       "  59,\n",
       "  58,\n",
       "  57,\n",
       "  56,\n",
       "  55,\n",
       "  56,\n",
       "  57,\n",
       "  56,\n",
       "  57,\n",
       "  58,\n",
       "  59,\n",
       "  60,\n",
       "  61,\n",
       "  60,\n",
       "  61,\n",
       "  62,\n",
       "  61,\n",
       "  62],\n",
       " [0,\n",
       "  1,\n",
       "  2,\n",
       "  3,\n",
       "  4,\n",
       "  5,\n",
       "  6,\n",
       "  8,\n",
       "  9,\n",
       "  12,\n",
       "  13,\n",
       "  14,\n",
       "  15,\n",
       "  16,\n",
       "  15,\n",
       "  14,\n",
       "  15,\n",
       "  16,\n",
       "  17,\n",
       "  16,\n",
       "  17,\n",
       "  16,\n",
       "  17,\n",
       "  18,\n",
       "  19,\n",
       "  18,\n",
       "  19,\n",
       "  18,\n",
       "  19,\n",
       "  24,\n",
       "  25,\n",
       "  30,\n",
       "  31,\n",
       "  32,\n",
       "  31,\n",
       "  32,\n",
       "  31,\n",
       "  35,\n",
       "  36,\n",
       "  41,\n",
       "  42,\n",
       "  47,\n",
       "  48,\n",
       "  51,\n",
       "  52,\n",
       "  53,\n",
       "  52,\n",
       "  51,\n",
       "  52,\n",
       "  53,\n",
       "  52,\n",
       "  51,\n",
       "  52,\n",
       "  57,\n",
       "  56,\n",
       "  57,\n",
       "  61,\n",
       "  63,\n",
       "  64,\n",
       "  0,\n",
       "  1,\n",
       "  2,\n",
       "  3,\n",
       "  4,\n",
       "  5,\n",
       "  4,\n",
       "  5,\n",
       "  4,\n",
       "  5,\n",
       "  6,\n",
       "  5,\n",
       "  6,\n",
       "  12,\n",
       "  13,\n",
       "  12,\n",
       "  13,\n",
       "  16,\n",
       "  17,\n",
       "  16,\n",
       "  17,\n",
       "  16,\n",
       "  15,\n",
       "  14,\n",
       "  13,\n",
       "  12,\n",
       "  13,\n",
       "  14,\n",
       "  15,\n",
       "  16,\n",
       "  17,\n",
       "  16,\n",
       "  15,\n",
       "  16,\n",
       "  15,\n",
       "  14,\n",
       "  13,\n",
       "  14,\n",
       "  15,\n",
       "  16,\n",
       "  17,\n",
       "  18],\n",
       " [0,\n",
       "  0,\n",
       "  0,\n",
       "  1,\n",
       "  2,\n",
       "  1,\n",
       "  2,\n",
       "  3,\n",
       "  4,\n",
       "  7,\n",
       "  10,\n",
       "  9,\n",
       "  10,\n",
       "  11,\n",
       "  12,\n",
       "  13,\n",
       "  14,\n",
       "  13,\n",
       "  16,\n",
       "  17,\n",
       "  18,\n",
       "  21,\n",
       "  22,\n",
       "  21,\n",
       "  22,\n",
       "  21,\n",
       "  20,\n",
       "  19,\n",
       "  20,\n",
       "  21,\n",
       "  22,\n",
       "  23,\n",
       "  24,\n",
       "  23,\n",
       "  27,\n",
       "  28,\n",
       "  27,\n",
       "  26,\n",
       "  32,\n",
       "  33,\n",
       "  38,\n",
       "  37,\n",
       "  36,\n",
       "  37,\n",
       "  36,\n",
       "  42,\n",
       "  43,\n",
       "  44,\n",
       "  45,\n",
       "  49,\n",
       "  50,\n",
       "  51,\n",
       "  52,\n",
       "  53,\n",
       "  54,\n",
       "  55,\n",
       "  59,\n",
       "  61,\n",
       "  62,\n",
       "  66,\n",
       "  65,\n",
       "  64,\n",
       "  63,\n",
       "  64,\n",
       "  63,\n",
       "  68,\n",
       "  69,\n",
       "  68,\n",
       "  69,\n",
       "  70,\n",
       "  71,\n",
       "  75,\n",
       "  76,\n",
       "  77,\n",
       "  78,\n",
       "  79,\n",
       "  78,\n",
       "  77,\n",
       "  76,\n",
       "  77,\n",
       "  78,\n",
       "  82,\n",
       "  83,\n",
       "  84,\n",
       "  85,\n",
       "  87,\n",
       "  88,\n",
       "  87,\n",
       "  86,\n",
       "  87,\n",
       "  93,\n",
       "  95,\n",
       "  96,\n",
       "  97,\n",
       "  96,\n",
       "  95,\n",
       "  96,\n",
       "  97,\n",
       "  98,\n",
       "  99,\n",
       "  100],\n",
       " [0,\n",
       "  0,\n",
       "  0,\n",
       "  0,\n",
       "  0,\n",
       "  1,\n",
       "  0,\n",
       "  1,\n",
       "  6,\n",
       "  7,\n",
       "  6,\n",
       "  5,\n",
       "  6,\n",
       "  7,\n",
       "  8,\n",
       "  7,\n",
       "  9,\n",
       "  8,\n",
       "  7,\n",
       "  6,\n",
       "  5,\n",
       "  4,\n",
       "  5,\n",
       "  4,\n",
       "  10,\n",
       "  11,\n",
       "  12,\n",
       "  13,\n",
       "  14,\n",
       "  15,\n",
       "  21,\n",
       "  22,\n",
       "  26,\n",
       "  27,\n",
       "  28,\n",
       "  29,\n",
       "  28,\n",
       "  29,\n",
       "  30,\n",
       "  29,\n",
       "  30,\n",
       "  31,\n",
       "  35,\n",
       "  34,\n",
       "  35,\n",
       "  36,\n",
       "  37,\n",
       "  36,\n",
       "  37,\n",
       "  38,\n",
       "  39,\n",
       "  38,\n",
       "  37,\n",
       "  41,\n",
       "  42,\n",
       "  43,\n",
       "  44,\n",
       "  45,\n",
       "  44,\n",
       "  49,\n",
       "  54,\n",
       "  55,\n",
       "  54,\n",
       "  53,\n",
       "  52,\n",
       "  53,\n",
       "  54,\n",
       "  55,\n",
       "  54,\n",
       "  55,\n",
       "  56,\n",
       "  57,\n",
       "  58,\n",
       "  60,\n",
       "  59,\n",
       "  60,\n",
       "  61,\n",
       "  62,\n",
       "  63,\n",
       "  64,\n",
       "  65,\n",
       "  66,\n",
       "  68,\n",
       "  69,\n",
       "  70,\n",
       "  69,\n",
       "  68,\n",
       "  69,\n",
       "  68,\n",
       "  67,\n",
       "  66,\n",
       "  67,\n",
       "  68,\n",
       "  74,\n",
       "  76,\n",
       "  75,\n",
       "  74,\n",
       "  75,\n",
       "  74,\n",
       "  75,\n",
       "  74],\n",
       " [0,\n",
       "  1,\n",
       "  0,\n",
       "  1,\n",
       "  0,\n",
       "  1,\n",
       "  2,\n",
       "  3,\n",
       "  4,\n",
       "  7,\n",
       "  6,\n",
       "  7,\n",
       "  8,\n",
       "  9,\n",
       "  10,\n",
       "  11,\n",
       "  12,\n",
       "  11,\n",
       "  10,\n",
       "  11,\n",
       "  10,\n",
       "  11,\n",
       "  12,\n",
       "  11,\n",
       "  12,\n",
       "  13,\n",
       "  17,\n",
       "  18,\n",
       "  17,\n",
       "  18,\n",
       "  19,\n",
       "  20,\n",
       "  21,\n",
       "  20,\n",
       "  26,\n",
       "  30,\n",
       "  29,\n",
       "  28,\n",
       "  29,\n",
       "  34,\n",
       "  35,\n",
       "  36,\n",
       "  35,\n",
       "  36,\n",
       "  37,\n",
       "  36,\n",
       "  38,\n",
       "  37,\n",
       "  38,\n",
       "  43,\n",
       "  44,\n",
       "  45,\n",
       "  44,\n",
       "  45,\n",
       "  46,\n",
       "  47,\n",
       "  48,\n",
       "  49,\n",
       "  48,\n",
       "  49,\n",
       "  50,\n",
       "  51,\n",
       "  52,\n",
       "  53,\n",
       "  52,\n",
       "  53,\n",
       "  54,\n",
       "  53,\n",
       "  58,\n",
       "  57,\n",
       "  56,\n",
       "  59,\n",
       "  58,\n",
       "  62,\n",
       "  63,\n",
       "  62,\n",
       "  61,\n",
       "  63,\n",
       "  62,\n",
       "  66,\n",
       "  72,\n",
       "  73,\n",
       "  74,\n",
       "  78,\n",
       "  79,\n",
       "  78,\n",
       "  79,\n",
       "  83,\n",
       "  84,\n",
       "  83,\n",
       "  84,\n",
       "  83,\n",
       "  82,\n",
       "  83,\n",
       "  84,\n",
       "  83,\n",
       "  84,\n",
       "  85,\n",
       "  90,\n",
       "  91,\n",
       "  92],\n",
       " [0,\n",
       "  1,\n",
       "  2,\n",
       "  3,\n",
       "  4,\n",
       "  5,\n",
       "  4,\n",
       "  5,\n",
       "  4,\n",
       "  5,\n",
       "  4,\n",
       "  3,\n",
       "  4,\n",
       "  5,\n",
       "  4,\n",
       "  3,\n",
       "  4,\n",
       "  5,\n",
       "  8,\n",
       "  9,\n",
       "  10,\n",
       "  9,\n",
       "  10,\n",
       "  11,\n",
       "  12,\n",
       "  11,\n",
       "  12,\n",
       "  13,\n",
       "  14,\n",
       "  15,\n",
       "  14,\n",
       "  13,\n",
       "  12,\n",
       "  11,\n",
       "  12,\n",
       "  13,\n",
       "  14,\n",
       "  15,\n",
       "  18,\n",
       "  22,\n",
       "  21,\n",
       "  20,\n",
       "  19,\n",
       "  20,\n",
       "  23,\n",
       "  24,\n",
       "  23,\n",
       "  24,\n",
       "  28,\n",
       "  27,\n",
       "  26,\n",
       "  27,\n",
       "  28,\n",
       "  29,\n",
       "  30,\n",
       "  29,\n",
       "  30,\n",
       "  35,\n",
       "  34,\n",
       "  38,\n",
       "  37,\n",
       "  38,\n",
       "  41,\n",
       "  40,\n",
       "  39,\n",
       "  38,\n",
       "  39,\n",
       "  40,\n",
       "  41,\n",
       "  47,\n",
       "  46,\n",
       "  51,\n",
       "  52,\n",
       "  57,\n",
       "  56,\n",
       "  57,\n",
       "  56,\n",
       "  57,\n",
       "  58,\n",
       "  62,\n",
       "  63,\n",
       "  64,\n",
       "  63,\n",
       "  64,\n",
       "  63,\n",
       "  69,\n",
       "  68,\n",
       "  69,\n",
       "  68,\n",
       "  69,\n",
       "  68,\n",
       "  67,\n",
       "  68,\n",
       "  69,\n",
       "  70,\n",
       "  71,\n",
       "  72,\n",
       "  73,\n",
       "  72,\n",
       "  71,\n",
       "  72],\n",
       " [0,\n",
       "  5,\n",
       "  9,\n",
       "  15,\n",
       "  16,\n",
       "  17,\n",
       "  16,\n",
       "  17,\n",
       "  16,\n",
       "  15,\n",
       "  17,\n",
       "  18,\n",
       "  17,\n",
       "  18,\n",
       "  19,\n",
       "  20,\n",
       "  19,\n",
       "  22,\n",
       "  23,\n",
       "  24,\n",
       "  23,\n",
       "  22,\n",
       "  23,\n",
       "  22,\n",
       "  21,\n",
       "  22,\n",
       "  21,\n",
       "  20,\n",
       "  21,\n",
       "  22,\n",
       "  21,\n",
       "  20,\n",
       "  19,\n",
       "  20,\n",
       "  21,\n",
       "  22,\n",
       "  23,\n",
       "  24,\n",
       "  23,\n",
       "  24,\n",
       "  25,\n",
       "  24,\n",
       "  25,\n",
       "  26,\n",
       "  27,\n",
       "  28,\n",
       "  27,\n",
       "  28,\n",
       "  27,\n",
       "  29,\n",
       "  28,\n",
       "  27,\n",
       "  28,\n",
       "  29,\n",
       "  31,\n",
       "  37,\n",
       "  41,\n",
       "  42,\n",
       "  43,\n",
       "  42,\n",
       "  43,\n",
       "  46,\n",
       "  47,\n",
       "  48,\n",
       "  47,\n",
       "  48,\n",
       "  47,\n",
       "  48,\n",
       "  49,\n",
       "  51,\n",
       "  52,\n",
       "  53,\n",
       "  52,\n",
       "  58,\n",
       "  57,\n",
       "  56,\n",
       "  55,\n",
       "  54,\n",
       "  53,\n",
       "  57,\n",
       "  56,\n",
       "  57,\n",
       "  58,\n",
       "  61,\n",
       "  60,\n",
       "  66,\n",
       "  67,\n",
       "  69,\n",
       "  68,\n",
       "  67,\n",
       "  68,\n",
       "  67,\n",
       "  66,\n",
       "  65,\n",
       "  66,\n",
       "  65,\n",
       "  66,\n",
       "  67,\n",
       "  68,\n",
       "  67,\n",
       "  68],\n",
       " [0,\n",
       "  0,\n",
       "  1,\n",
       "  2,\n",
       "  1,\n",
       "  2,\n",
       "  1,\n",
       "  0,\n",
       "  0,\n",
       "  0,\n",
       "  2,\n",
       "  3,\n",
       "  4,\n",
       "  3,\n",
       "  4,\n",
       "  5,\n",
       "  6,\n",
       "  7,\n",
       "  6,\n",
       "  11,\n",
       "  12,\n",
       "  11,\n",
       "  12,\n",
       "  13,\n",
       "  12,\n",
       "  13,\n",
       "  16,\n",
       "  21,\n",
       "  24,\n",
       "  25,\n",
       "  24,\n",
       "  25,\n",
       "  27,\n",
       "  31,\n",
       "  30,\n",
       "  29,\n",
       "  30,\n",
       "  33,\n",
       "  34,\n",
       "  35,\n",
       "  37,\n",
       "  38,\n",
       "  39,\n",
       "  38,\n",
       "  39,\n",
       "  41,\n",
       "  40,\n",
       "  39,\n",
       "  38,\n",
       "  39,\n",
       "  40,\n",
       "  39,\n",
       "  41,\n",
       "  42,\n",
       "  43,\n",
       "  44,\n",
       "  43,\n",
       "  42,\n",
       "  43,\n",
       "  44,\n",
       "  45,\n",
       "  44,\n",
       "  50,\n",
       "  51,\n",
       "  50,\n",
       "  51,\n",
       "  50,\n",
       "  49,\n",
       "  50,\n",
       "  49,\n",
       "  48,\n",
       "  49,\n",
       "  48,\n",
       "  49,\n",
       "  54,\n",
       "  55,\n",
       "  56,\n",
       "  55,\n",
       "  56,\n",
       "  57,\n",
       "  56,\n",
       "  60,\n",
       "  59,\n",
       "  58,\n",
       "  57,\n",
       "  56,\n",
       "  57,\n",
       "  58,\n",
       "  57,\n",
       "  58,\n",
       "  61,\n",
       "  63,\n",
       "  64,\n",
       "  69,\n",
       "  70,\n",
       "  71,\n",
       "  72,\n",
       "  73,\n",
       "  72,\n",
       "  73,\n",
       "  72]]"
      ]
     },
     "execution_count": 182,
     "metadata": {},
     "output_type": "execute_result"
    }
   ],
   "source": [
    "all_walks"
   ]
  },
  {
   "cell_type": "code",
   "execution_count": 183,
   "metadata": {
    "collapsed": true
   },
   "outputs": [],
   "source": [
    "np_aw = np.array(all_walks)"
   ]
  },
  {
   "cell_type": "code",
   "execution_count": 184,
   "metadata": {
    "collapsed": false
   },
   "outputs": [
    {
     "data": {
      "text/plain": [
       "[<matplotlib.lines.Line2D at 0x11cf9fda0>,\n",
       " <matplotlib.lines.Line2D at 0x11cf9ff60>,\n",
       " <matplotlib.lines.Line2D at 0x11cfa7198>,\n",
       " <matplotlib.lines.Line2D at 0x11cfa7390>,\n",
       " <matplotlib.lines.Line2D at 0x11cfa7588>,\n",
       " <matplotlib.lines.Line2D at 0x11cfa7780>,\n",
       " <matplotlib.lines.Line2D at 0x11cfa7978>,\n",
       " <matplotlib.lines.Line2D at 0x11cfa7b70>,\n",
       " <matplotlib.lines.Line2D at 0x11cfa7d68>,\n",
       " <matplotlib.lines.Line2D at 0x11cfa7f60>,\n",
       " <matplotlib.lines.Line2D at 0x11ce86828>,\n",
       " <matplotlib.lines.Line2D at 0x11cfae358>,\n",
       " <matplotlib.lines.Line2D at 0x11cfae550>,\n",
       " <matplotlib.lines.Line2D at 0x11cfae748>,\n",
       " <matplotlib.lines.Line2D at 0x11cfae940>,\n",
       " <matplotlib.lines.Line2D at 0x11cfaeb38>,\n",
       " <matplotlib.lines.Line2D at 0x11cfaed30>,\n",
       " <matplotlib.lines.Line2D at 0x11cfaef28>,\n",
       " <matplotlib.lines.Line2D at 0x11cfb2160>,\n",
       " <matplotlib.lines.Line2D at 0x11cfb2358>,\n",
       " <matplotlib.lines.Line2D at 0x11cfb2550>,\n",
       " <matplotlib.lines.Line2D at 0x11cfb2748>,\n",
       " <matplotlib.lines.Line2D at 0x11cfb2940>,\n",
       " <matplotlib.lines.Line2D at 0x11cfb2b38>,\n",
       " <matplotlib.lines.Line2D at 0x11cfb2d30>,\n",
       " <matplotlib.lines.Line2D at 0x11cfb2f28>,\n",
       " <matplotlib.lines.Line2D at 0x11cfba160>,\n",
       " <matplotlib.lines.Line2D at 0x11cfba358>,\n",
       " <matplotlib.lines.Line2D at 0x11cfba550>,\n",
       " <matplotlib.lines.Line2D at 0x11cfba748>,\n",
       " <matplotlib.lines.Line2D at 0x11cfba940>,\n",
       " <matplotlib.lines.Line2D at 0x11cfbab38>,\n",
       " <matplotlib.lines.Line2D at 0x11cfbad30>,\n",
       " <matplotlib.lines.Line2D at 0x11cfbaf28>,\n",
       " <matplotlib.lines.Line2D at 0x11cfc0160>,\n",
       " <matplotlib.lines.Line2D at 0x11cfc0358>,\n",
       " <matplotlib.lines.Line2D at 0x11cfc0550>,\n",
       " <matplotlib.lines.Line2D at 0x11cfc0748>,\n",
       " <matplotlib.lines.Line2D at 0x11cfc0940>,\n",
       " <matplotlib.lines.Line2D at 0x11cfc0b38>,\n",
       " <matplotlib.lines.Line2D at 0x11cfc0d30>,\n",
       " <matplotlib.lines.Line2D at 0x11cfc0f28>,\n",
       " <matplotlib.lines.Line2D at 0x11cfc6160>,\n",
       " <matplotlib.lines.Line2D at 0x11cfc6358>,\n",
       " <matplotlib.lines.Line2D at 0x11cfc6550>,\n",
       " <matplotlib.lines.Line2D at 0x11cfc6748>,\n",
       " <matplotlib.lines.Line2D at 0x11cfc6940>,\n",
       " <matplotlib.lines.Line2D at 0x11cfc6b38>,\n",
       " <matplotlib.lines.Line2D at 0x11cfc6d30>,\n",
       " <matplotlib.lines.Line2D at 0x11cfc6f28>,\n",
       " <matplotlib.lines.Line2D at 0x11cfcc160>,\n",
       " <matplotlib.lines.Line2D at 0x11cfcc358>,\n",
       " <matplotlib.lines.Line2D at 0x11cfcc550>,\n",
       " <matplotlib.lines.Line2D at 0x11cfcc748>,\n",
       " <matplotlib.lines.Line2D at 0x11cfcc940>,\n",
       " <matplotlib.lines.Line2D at 0x11cfccb38>,\n",
       " <matplotlib.lines.Line2D at 0x11cfccd30>,\n",
       " <matplotlib.lines.Line2D at 0x11cfccf28>,\n",
       " <matplotlib.lines.Line2D at 0x11cfd4160>,\n",
       " <matplotlib.lines.Line2D at 0x11cfd4358>,\n",
       " <matplotlib.lines.Line2D at 0x11cfd4550>,\n",
       " <matplotlib.lines.Line2D at 0x11cfd4748>,\n",
       " <matplotlib.lines.Line2D at 0x11cfd4940>,\n",
       " <matplotlib.lines.Line2D at 0x11cfd4b38>,\n",
       " <matplotlib.lines.Line2D at 0x11cfd4d30>,\n",
       " <matplotlib.lines.Line2D at 0x11cfd4f28>,\n",
       " <matplotlib.lines.Line2D at 0x11cfd8160>,\n",
       " <matplotlib.lines.Line2D at 0x11cfd8358>,\n",
       " <matplotlib.lines.Line2D at 0x11cfd8550>,\n",
       " <matplotlib.lines.Line2D at 0x11cfd8748>,\n",
       " <matplotlib.lines.Line2D at 0x11cfd8940>,\n",
       " <matplotlib.lines.Line2D at 0x11cfd8b38>,\n",
       " <matplotlib.lines.Line2D at 0x11cfd8d30>,\n",
       " <matplotlib.lines.Line2D at 0x11cfd8f28>,\n",
       " <matplotlib.lines.Line2D at 0x11cfdf160>,\n",
       " <matplotlib.lines.Line2D at 0x11cfdf358>,\n",
       " <matplotlib.lines.Line2D at 0x11cfdf550>,\n",
       " <matplotlib.lines.Line2D at 0x11cfdf748>,\n",
       " <matplotlib.lines.Line2D at 0x11cfdf940>,\n",
       " <matplotlib.lines.Line2D at 0x11cfdfb38>,\n",
       " <matplotlib.lines.Line2D at 0x11cfdfd30>,\n",
       " <matplotlib.lines.Line2D at 0x11cfdff28>,\n",
       " <matplotlib.lines.Line2D at 0x11cfe5160>,\n",
       " <matplotlib.lines.Line2D at 0x11cfe5358>,\n",
       " <matplotlib.lines.Line2D at 0x11cfe5550>,\n",
       " <matplotlib.lines.Line2D at 0x11cfe5748>,\n",
       " <matplotlib.lines.Line2D at 0x11cfe5940>,\n",
       " <matplotlib.lines.Line2D at 0x11cfe5b38>,\n",
       " <matplotlib.lines.Line2D at 0x11cfe5d30>,\n",
       " <matplotlib.lines.Line2D at 0x11cfe5f28>,\n",
       " <matplotlib.lines.Line2D at 0x11cfe9160>,\n",
       " <matplotlib.lines.Line2D at 0x11cfe9358>,\n",
       " <matplotlib.lines.Line2D at 0x11cfe9550>,\n",
       " <matplotlib.lines.Line2D at 0x11cfe9748>,\n",
       " <matplotlib.lines.Line2D at 0x11cfe9940>,\n",
       " <matplotlib.lines.Line2D at 0x11cfe9b38>,\n",
       " <matplotlib.lines.Line2D at 0x11cfe9d30>,\n",
       " <matplotlib.lines.Line2D at 0x11cfe9f28>,\n",
       " <matplotlib.lines.Line2D at 0x11cff1160>,\n",
       " <matplotlib.lines.Line2D at 0x11cff1358>,\n",
       " <matplotlib.lines.Line2D at 0x11cff1550>]"
      ]
     },
     "execution_count": 184,
     "metadata": {},
     "output_type": "execute_result"
    }
   ],
   "source": [
    "plt.plot(np_aw)"
   ]
  },
  {
   "cell_type": "code",
   "execution_count": 185,
   "metadata": {
    "collapsed": false
   },
   "outputs": [
    {
     "data": {
      "image/png": "[encoded data removed]",
      "text/plain": [
       "<matplotlib.figure.Figure at 0x11cf28828>"
      ]
     },
     "metadata": {},
     "output_type": "display_data"
    }
   ],
   "source": [
    "plt.show()"
   ]
  },
  {
   "cell_type": "code",
   "execution_count": 186,
   "metadata": {
    "collapsed": true
   },
   "outputs": [],
   "source": [
    "np_aw_t = np.transpose(np_aw)"
   ]
  },
  {
   "cell_type": "code",
   "execution_count": 187,
   "metadata": {
    "collapsed": false
   },
   "outputs": [
    {
     "data": {
      "text/plain": [
       "array([[ 0,  0,  0, ...,  0,  0,  0],\n",
       "       [ 1,  0,  1, ...,  1,  5,  0],\n",
       "       [ 2,  1,  0, ...,  2,  9,  1],\n",
       "       ..., \n",
       "       [71, 75, 62, ..., 72, 68, 72],\n",
       "       [76, 76, 61, ..., 71, 67, 73],\n",
       "       [77, 75, 62, ..., 72, 68, 72]])"
      ]
     },
     "execution_count": 187,
     "metadata": {},
     "output_type": "execute_result"
    }
   ],
   "source": [
    "np_aw_t"
   ]
  },
  {
   "cell_type": "code",
   "execution_count": 188,
   "metadata": {
    "collapsed": false
   },
   "outputs": [
    {
     "data": {
      "text/plain": [
       "[<matplotlib.lines.Line2D at 0x11d2471d0>,\n",
       " <matplotlib.lines.Line2D at 0x11d247390>,\n",
       " <matplotlib.lines.Line2D at 0x11d247588>,\n",
       " <matplotlib.lines.Line2D at 0x11d247780>,\n",
       " <matplotlib.lines.Line2D at 0x11d247978>,\n",
       " <matplotlib.lines.Line2D at 0x11d247b70>,\n",
       " <matplotlib.lines.Line2D at 0x11d247d68>,\n",
       " <matplotlib.lines.Line2D at 0x11d247f60>,\n",
       " <matplotlib.lines.Line2D at 0x11d24b198>,\n",
       " <matplotlib.lines.Line2D at 0x11d24b390>]"
      ]
     },
     "execution_count": 188,
     "metadata": {},
     "output_type": "execute_result"
    }
   ],
   "source": [
    "plt.plot(np_aw_t)"
   ]
  },
  {
   "cell_type": "code",
   "execution_count": 189,
   "metadata": {
    "collapsed": false
   },
   "outputs": [
    {
     "data": {
      "image/png": "[encoded data removed]",
      "text/plain": [
       "<matplotlib.figure.Figure at 0x11d139278>"
      ]
     },
     "metadata": {},
     "output_type": "display_data"
    }
   ],
   "source": [
    "plt.show()"
   ]
  },
  {
   "cell_type": "code",
   "execution_count": 190,
   "metadata": {
    "collapsed": true
   },
   "outputs": [],
   "source": [
    "ends = np_aw_t[-1]"
   ]
  },
  {
   "cell_type": "code",
   "execution_count": 191,
   "metadata": {
    "collapsed": false
   },
   "outputs": [
    {
     "data": {
      "text/plain": [
       "(array([ 1.,  0.,  0.,  0.,  0.,  1.,  5.,  1.,  0.,  2.]),\n",
       " array([  18. ,   26.2,   34.4,   42.6,   50.8,   59. ,   67.2,   75.4,\n",
       "          83.6,   91.8,  100. ]),\n",
       " <a list of 10 Patch objects>)"
      ]
     },
     "execution_count": 191,
     "metadata": {},
     "output_type": "execute_result"
    }
   ],
   "source": [
    "plt.hist(ends)"
   ]
  },
  {
   "cell_type": "code",
   "execution_count": 192,
   "metadata": {
    "collapsed": false
   },
   "outputs": [
    {
     "data": {
      "image/png": "[encoded data removed]",
      "text/plain": [
       "<matplotlib.figure.Figure at 0x11d178b70>"
      ]
     },
     "metadata": {},
     "output_type": "display_data"
    }
   ],
   "source": [
    "plt.show()"
   ]
  },
  {
   "cell_type": "code",
   "execution_count": null,
   "metadata": {
    "collapsed": true
   },
   "outputs": [],
   "source": []
  }
 ],
 "metadata": {
  "kernelspec": {
   "display_name": "Python 3",
   "language": "python",
   "name": "python3"
  },
  "language_info": {
   "codemirror_mode": {
    "name": "ipython",
    "version": 3
   },
   "file_extension": ".py",
   "mimetype": "text/x-python",
   "name": "python",
   "nbconvert_exporter": "python",
   "pygments_lexer": "ipython3",
   "version": "3.6.0"
  }
 },
 "nbformat": 4,
 "nbformat_minor": 2
}
